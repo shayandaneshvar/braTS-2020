{
 "cells": [
  {
   "cell_type": "code",
   "execution_count": 2,
   "metadata": {
    "collapsed": true
   },
   "outputs": [
    {
     "name": "stdout",
     "output_type": "stream",
     "text": [
      "images: 148, masks: 148 \n"
     ]
    }
   ],
   "source": [
    "import torch\n",
    "from util.data import get_dl, get_train_ds, get_val_ds\n",
    "from util.training_utils import train, check_accuracy, save, load, check_accuracy_v2,  check_accuracy_v3, get_all_metrics, get_all_metrics_2\n",
    "from models.Base3DUNet import Base3DUNet\n",
    "from models.Attention3DUNet import Attention3UNet\n",
    "from models.Residual3DUNet import Res3DUNet\n",
    "\n",
    "BATCH_SIZE = 4\n",
    "EPOCHS = 100\n",
    "DEVICE = torch.device('cuda' if torch.cuda.is_available() else 'cpu')\n",
    "\n",
    "val_dl = get_dl(get_val_ds(full_masks=True), BATCH_SIZE, nw=2)"
   ]
  },
  {
   "cell_type": "code",
   "execution_count": 8,
   "outputs": [],
   "source": [
    "import gc\n",
    "\n",
    "def clear():\n",
    "    torch.cuda.empty_cache()\n",
    "    gc.collect()\n",
    "\n",
    "clear()"
   ],
   "metadata": {
    "collapsed": false
   }
  },
  {
   "cell_type": "code",
   "execution_count": 4,
   "outputs": [],
   "source": [
    "model = Base3DUNet(3, 3, features=[64, 128, 256, 512], up_sample=True).to(DEVICE)"
   ],
   "metadata": {
    "collapsed": false
   }
  },
  {
   "cell_type": "code",
   "execution_count": 6,
   "outputs": [
    {
     "name": "stdout",
     "output_type": "stream",
     "text": [
      "3DUNet Upsampler with Dice Loss\n",
      " Accuracy (TC,ET,WT): \n",
      " 99.3601 , 99.6902, 99.0066\n",
      "Dice Score (TC,ET,WT): \n",
      " 0.7821627855300903 , 0.6888573169708252, 0.8394877314567566\n",
      "IoU Score (TC,ET,WT): \n",
      " 0.6852228045463562 , 0.5777104496955872, 0.7514510154724121\n",
      " Precision (TC,ET,WT): \n",
      " --> 40.6819 , 80.0799, 16.7454\n",
      " Recall (TC,ET,WT): \n",
      " --> 34.6550 , 78.0800, 14.8955\n",
      " F1-score (TC,ET,WT): \n",
      " --> 37.4274 , 79.0673, 15.7664\n"
     ]
    }
   ],
   "source": [
    "load(model,\"weights/3D/3d_100e_adam_b4_dice_upsampler\")\n",
    "print(\"3DUNet Upsampler with Dice Loss\")\n",
    "get_all_metrics_2(val_dl,model,DEVICE)"
   ],
   "metadata": {
    "collapsed": false
   }
  },
  {
   "cell_type": "code",
   "execution_count": 7,
   "outputs": [
    {
     "name": "stdout",
     "output_type": "stream",
     "text": [
      "3DUNet Upsampler with BCE-Dice Loss\n",
      " Accuracy (TC,ET,WT): \n",
      " 99.3121 , 99.6928, 99.0178\n",
      "Dice Score (TC,ET,WT): \n",
      " 0.7719242572784424 , 0.6890219449996948, 0.8466905951499939\n",
      "IoU Score (TC,ET,WT): \n",
      " 0.6696090698242188 , 0.5770222544670105, 0.7578733563423157\n",
      " Precision (TC,ET,WT): \n",
      " --> 41.4878 , 84.0877, 16.1345\n",
      " Recall (TC,ET,WT): \n",
      " --> 34.6383 , 78.0820, 14.8971\n",
      " F1-score (TC,ET,WT): \n",
      " --> 37.7549 , 80.9737, 15.4912\n"
     ]
    }
   ],
   "source": [
    "load(model,\"weights/3D/3d_100e_adam_b4_bce_dice_upsampler\")\n",
    "print(\"3DUNet Upsampler with BCE-Dice Loss\")\n",
    "get_all_metrics_2(val_dl,model,DEVICE)"
   ],
   "metadata": {
    "collapsed": false
   }
  },
  {
   "cell_type": "code",
   "execution_count": 9,
   "outputs": [],
   "source": [
    "clear()\n",
    "model = Base3DUNet(3, 3, features=[64, 128, 256, 512], up_sample=False).to(DEVICE)"
   ],
   "metadata": {
    "collapsed": false
   }
  },
  {
   "cell_type": "code",
   "execution_count": 10,
   "outputs": [
    {
     "name": "stdout",
     "output_type": "stream",
     "text": [
      "3DUNet with Dice Loss\n",
      " Accuracy (TC,ET,WT): \n",
      " 99.2633 , 99.6768, 98.9967\n",
      "Dice Score (TC,ET,WT): \n",
      " 0.7423750162124634 , 0.6710378527641296, 0.8460586071014404\n",
      "IoU Score (TC,ET,WT): \n",
      " 0.6411216259002686 , 0.5546414852142334, 0.7568053007125854\n",
      " Precision (TC,ET,WT): \n",
      " --> 46.9100 , 97.4532, 14.9651\n",
      " Recall (TC,ET,WT): \n",
      " --> 34.6212 , 78.0695, 14.8940\n",
      " F1-score (TC,ET,WT): \n",
      " --> 39.8395 , 86.6910, 14.9294\n"
     ]
    }
   ],
   "source": [
    "load(model,\"weights/3D/3d_100e_adam_b4_dice\")\n",
    "print(\"3DUNet with Dice Loss\")\n",
    "get_all_metrics_2(val_dl,model,DEVICE)"
   ],
   "metadata": {
    "collapsed": false
   }
  },
  {
   "cell_type": "code",
   "execution_count": 11,
   "outputs": [
    {
     "name": "stdout",
     "output_type": "stream",
     "text": [
      "3DUNet with BCE-Dice Loss\n",
      " Accuracy (TC,ET,WT): \n",
      " 99.3517 , 99.7012, 99.0492\n",
      "Dice Score (TC,ET,WT): \n",
      " 0.7789778709411621 , 0.698265552520752, 0.8524792194366455\n",
      "IoU Score (TC,ET,WT): \n",
      " 0.6808264255523682 , 0.5862983465194702, 0.7661637663841248\n",
      " Precision (TC,ET,WT): \n",
      " --> 38.6881 , 85.5733, 16.1231\n",
      " Recall (TC,ET,WT): \n",
      " --> 34.6521 , 78.0886, 14.9019\n",
      " F1-score (TC,ET,WT): \n",
      " --> 36.5590 , 81.6598, 15.4884\n"
     ]
    }
   ],
   "source": [
    "load(model,\"weights/3D/3d_100e_adam_b4_bce_dice\")\n",
    "print(\"3DUNet with BCE-Dice Loss\")\n",
    "get_all_metrics_2(val_dl, model, DEVICE)"
   ],
   "metadata": {
    "collapsed": false
   }
  },
  {
   "cell_type": "code",
   "execution_count": 12,
   "outputs": [],
   "source": [
    "clear()\n",
    "model = Attention3UNet(3, 3, features=[64, 128, 256, 512], up_sample=False).to(DEVICE)"
   ],
   "metadata": {
    "collapsed": false
   }
  },
  {
   "cell_type": "code",
   "execution_count": 15,
   "outputs": [
    {
     "name": "stdout",
     "output_type": "stream",
     "text": [
      "Attention3DUNet with Dice Loss - (ConvT version)\n",
      " Accuracy (TC,ET,WT): \n",
      " 99.3544 , 99.6905, 99.0364\n",
      "Dice Score (TC,ET,WT): \n",
      " 0.7816533446311951 , 0.6932132840156555, 0.8522657155990601\n",
      "IoU Score (TC,ET,WT): \n",
      " 0.6859501004219055 , 0.5824636220932007, 0.7657946348190308\n",
      " Precision (TC,ET,WT): \n",
      " --> 42.0900 , 82.9900, 16.1025\n",
      " Recall (TC,ET,WT): \n",
      " --> 34.6530 , 78.0802, 14.8999\n",
      " F1-score (TC,ET,WT): \n",
      " --> 38.0111 , 80.4603, 15.4779\n"
     ]
    }
   ],
   "source": [
    "load(model,\"weights/attention/att3d_100e_adam_b4_dice_c\")\n",
    "print(\"Attention3DUNet with Dice Loss - (ConvT version)\")\n",
    "get_all_metrics_2(val_dl, model, DEVICE)"
   ],
   "metadata": {
    "collapsed": false
   }
  },
  {
   "cell_type": "code",
   "execution_count": 17,
   "outputs": [
    {
     "name": "stdout",
     "output_type": "stream",
     "text": [
      "Attention3DUNet with BCE-Dice Loss - (ConvT version)\n",
      " Accuracy (TC,ET,WT): \n",
      " 99.2950 , 99.6922, 99.0070\n",
      "Dice Score (TC,ET,WT): \n",
      " 0.7608307003974915 , 0.6907647252082825, 0.8438194394111633\n",
      "IoU Score (TC,ET,WT): \n",
      " 0.6616765856742859 , 0.5782598853111267, 0.7573457956314087\n",
      " Precision (TC,ET,WT): \n",
      " --> 42.0382 , 86.3042, 16.2116\n",
      " Recall (TC,ET,WT): \n",
      " --> 34.6323 , 78.0815, 14.8955\n",
      " F1-score (TC,ET,WT): \n",
      " --> 37.9776 , 81.9872, 15.5257\n"
     ]
    }
   ],
   "source": [
    "load(model,\"weights/attention/att3d_100e_adam_b4_bce_dice_c\")\n",
    "print(\"Attention3DUNet with BCE-Dice Loss - (ConvT version)\")\n",
    "get_all_metrics_2(val_dl, model, DEVICE)"
   ],
   "metadata": {
    "collapsed": false
   }
  },
  {
   "cell_type": "code",
   "execution_count": 18,
   "outputs": [],
   "source": [
    "clear()\n",
    "model = Attention3UNet(3, 3, features=[64, 128, 256, 512], up_sample=True).to(DEVICE)"
   ],
   "metadata": {
    "collapsed": false
   }
  },
  {
   "cell_type": "code",
   "execution_count": 19,
   "outputs": [
    {
     "name": "stdout",
     "output_type": "stream",
     "text": [
      "Attention3DUNet with Dice Loss - (Upsampler version)\n",
      " Accuracy (TC,ET,WT): \n",
      " 99.3225 , 99.6896, 99.0118\n",
      "Dice Score (TC,ET,WT): \n",
      " 0.7768449783325195 , 0.6793321967124939, 0.844255805015564\n",
      "IoU Score (TC,ET,WT): \n",
      " 0.674619734287262 , 0.5670403242111206, 0.7549707889556885\n",
      " Precision (TC,ET,WT): \n",
      " --> 42.1787 , 92.9405, 16.8040\n",
      " Recall (TC,ET,WT): \n",
      " --> 34.6419 , 78.0795, 14.8962\n",
      " F1-score (TC,ET,WT): \n",
      " --> 38.0406 , 84.8643, 15.7927\n"
     ]
    }
   ],
   "source": [
    "load(model,\"weights/attention/att3d_100e_adam_b4_dice\")\n",
    "print(\"Attention3DUNet with Dice Loss - (Upsampler version)\")\n",
    "get_all_metrics_2(val_dl, model, DEVICE)"
   ],
   "metadata": {
    "collapsed": false
   }
  },
  {
   "cell_type": "code",
   "execution_count": 20,
   "outputs": [
    {
     "name": "stdout",
     "output_type": "stream",
     "text": [
      "Attention3DUNet with Dice Loss - (Upsampler version)\n",
      " Accuracy (TC,ET,WT): \n",
      " 99.3204 , 99.6839, 98.9921\n",
      "Dice Score (TC,ET,WT): \n",
      " 0.7743038535118103 , 0.6768757700920105, 0.8426200747489929\n",
      "IoU Score (TC,ET,WT): \n",
      " 0.6734684109687805 , 0.5659209489822388, 0.7533087730407715\n",
      " Precision (TC,ET,WT): \n",
      " --> 43.0446 , 89.8057, 16.7121\n",
      " Recall (TC,ET,WT): \n",
      " --> 34.6411 , 78.0750, 14.8933\n",
      " F1-score (TC,ET,WT): \n",
      " --> 38.3884 , 83.5305, 15.7503\n"
     ]
    }
   ],
   "source": [
    "load(model,\"weights/attention/att3d_100e_adam_b4_bce_dice\")\n",
    "print(\"Attention3DUNet with Dice Loss - (Upsampler version)\")\n",
    "get_all_metrics_2(val_dl, model, DEVICE)"
   ],
   "metadata": {
    "collapsed": false
   }
  },
  {
   "cell_type": "code",
   "execution_count": null,
   "outputs": [],
   "source": [
    "clear()\n",
    "model = Res3DUNet(3, 3).to(DEVICE)"
   ],
   "metadata": {
    "collapsed": false
   }
  }
 ],
 "metadata": {
  "kernelspec": {
   "display_name": "Python 3",
   "language": "python",
   "name": "python3"
  },
  "language_info": {
   "codemirror_mode": {
    "name": "ipython",
    "version": 2
   },
   "file_extension": ".py",
   "mimetype": "text/x-python",
   "name": "python",
   "nbconvert_exporter": "python",
   "pygments_lexer": "ipython2",
   "version": "2.7.6"
  }
 },
 "nbformat": 4,
 "nbformat_minor": 0
}
