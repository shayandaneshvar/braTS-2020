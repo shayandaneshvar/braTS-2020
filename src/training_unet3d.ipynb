{
 "cells": [
  {
   "cell_type": "code",
   "execution_count": 1,
   "metadata": {
    "collapsed": true
   },
   "outputs": [],
   "source": [
    "import torch"
   ]
  },
  {
   "cell_type": "code",
   "execution_count": 2,
   "outputs": [],
   "source": [
    "from util.data import get_dl, get_train_ds, get_val_ds\n",
    "from util.training_utils import train, check_accuracy, save, load, check_accuracy_v2\n",
    "from models.Base3DUNet import Base3DUNet\n",
    "from util.loss import DiceLoss, BCEDiceLoss"
   ],
   "metadata": {
    "collapsed": false
   }
  },
  {
   "cell_type": "code",
   "execution_count": 3,
   "outputs": [],
   "source": [
    "BATCH_SIZE = 4\n",
    "EPOCHS = 100\n",
    "DEVICE = torch.device('cuda' if torch.cuda.is_available() else 'cpu')"
   ],
   "metadata": {
    "collapsed": false
   }
  },
  {
   "cell_type": "code",
   "execution_count": 4,
   "outputs": [],
   "source": [
    "LR = 0.0001\n",
    "# DEVICE = 'cpu'"
   ],
   "metadata": {
    "collapsed": false
   }
  },
  {
   "cell_type": "code",
   "execution_count": 5,
   "outputs": [
    {
     "name": "stdout",
     "output_type": "stream",
     "text": [
      "images: 221, masks: 221 \n",
      "images: 148, masks: 148 \n"
     ]
    }
   ],
   "source": [
    "train_dl = get_dl(get_train_ds(), BATCH_SIZE,nw=2)\n",
    "val_dl = get_dl(get_val_ds(), BATCH_SIZE, nw=2)"
   ],
   "metadata": {
    "collapsed": false
   }
  },
  {
   "cell_type": "code",
   "execution_count": 6,
   "outputs": [
    {
     "data": {
      "text/plain": "445"
     },
     "execution_count": 6,
     "metadata": {},
     "output_type": "execute_result"
    }
   ],
   "source": [
    "import gc\n",
    "torch.cuda.empty_cache()\n",
    "gc.collect()"
   ],
   "metadata": {
    "collapsed": false
   }
  },
  {
   "cell_type": "code",
   "execution_count": 7,
   "outputs": [
    {
     "name": "stdout",
     "output_type": "stream",
     "text": [
      "Base3DUNet(\n",
      "  (pooling): MaxPool3d(kernel_size=2, stride=2, padding=0, dilation=1, ceil_mode=False)\n",
      "  (downs): ModuleList(\n",
      "    (0): DoubleConv3D(\n",
      "      (conv): Sequential(\n",
      "        (0): Conv3d(3, 64, kernel_size=(3, 3, 3), stride=(1, 1, 1), padding=(1, 1, 1), bias=False)\n",
      "        (1): BatchNorm3d(64, eps=1e-05, momentum=0.1, affine=True, track_running_stats=True)\n",
      "        (2): ReLU(inplace=True)\n",
      "        (3): Conv3d(64, 64, kernel_size=(3, 3, 3), stride=(1, 1, 1), padding=(1, 1, 1), bias=False)\n",
      "        (4): BatchNorm3d(64, eps=1e-05, momentum=0.1, affine=True, track_running_stats=True)\n",
      "        (5): ReLU(inplace=True)\n",
      "      )\n",
      "    )\n",
      "    (1): DoubleConv3D(\n",
      "      (conv): Sequential(\n",
      "        (0): Conv3d(64, 128, kernel_size=(3, 3, 3), stride=(1, 1, 1), padding=(1, 1, 1), bias=False)\n",
      "        (1): BatchNorm3d(128, eps=1e-05, momentum=0.1, affine=True, track_running_stats=True)\n",
      "        (2): ReLU(inplace=True)\n",
      "        (3): Conv3d(128, 128, kernel_size=(3, 3, 3), stride=(1, 1, 1), padding=(1, 1, 1), bias=False)\n",
      "        (4): BatchNorm3d(128, eps=1e-05, momentum=0.1, affine=True, track_running_stats=True)\n",
      "        (5): ReLU(inplace=True)\n",
      "      )\n",
      "    )\n",
      "    (2): DoubleConv3D(\n",
      "      (conv): Sequential(\n",
      "        (0): Conv3d(128, 256, kernel_size=(3, 3, 3), stride=(1, 1, 1), padding=(1, 1, 1), bias=False)\n",
      "        (1): BatchNorm3d(256, eps=1e-05, momentum=0.1, affine=True, track_running_stats=True)\n",
      "        (2): ReLU(inplace=True)\n",
      "        (3): Conv3d(256, 256, kernel_size=(3, 3, 3), stride=(1, 1, 1), padding=(1, 1, 1), bias=False)\n",
      "        (4): BatchNorm3d(256, eps=1e-05, momentum=0.1, affine=True, track_running_stats=True)\n",
      "        (5): ReLU(inplace=True)\n",
      "      )\n",
      "    )\n",
      "    (3): DoubleConv3D(\n",
      "      (conv): Sequential(\n",
      "        (0): Conv3d(256, 512, kernel_size=(3, 3, 3), stride=(1, 1, 1), padding=(1, 1, 1), bias=False)\n",
      "        (1): BatchNorm3d(512, eps=1e-05, momentum=0.1, affine=True, track_running_stats=True)\n",
      "        (2): ReLU(inplace=True)\n",
      "        (3): Conv3d(512, 512, kernel_size=(3, 3, 3), stride=(1, 1, 1), padding=(1, 1, 1), bias=False)\n",
      "        (4): BatchNorm3d(512, eps=1e-05, momentum=0.1, affine=True, track_running_stats=True)\n",
      "        (5): ReLU(inplace=True)\n",
      "      )\n",
      "    )\n",
      "  )\n",
      "  (ups): ModuleList(\n",
      "    (0): Upsample(scale_factor=2.0, mode=trilinear)\n",
      "    (1): DoubleConv3D(\n",
      "      (conv): Sequential(\n",
      "        (0): Conv3d(1536, 512, kernel_size=(3, 3, 3), stride=(1, 1, 1), padding=(1, 1, 1), bias=False)\n",
      "        (1): BatchNorm3d(512, eps=1e-05, momentum=0.1, affine=True, track_running_stats=True)\n",
      "        (2): ReLU(inplace=True)\n",
      "        (3): Conv3d(512, 512, kernel_size=(3, 3, 3), stride=(1, 1, 1), padding=(1, 1, 1), bias=False)\n",
      "        (4): BatchNorm3d(512, eps=1e-05, momentum=0.1, affine=True, track_running_stats=True)\n",
      "        (5): ReLU(inplace=True)\n",
      "      )\n",
      "    )\n",
      "    (2): Upsample(scale_factor=2.0, mode=trilinear)\n",
      "    (3): DoubleConv3D(\n",
      "      (conv): Sequential(\n",
      "        (0): Conv3d(768, 256, kernel_size=(3, 3, 3), stride=(1, 1, 1), padding=(1, 1, 1), bias=False)\n",
      "        (1): BatchNorm3d(256, eps=1e-05, momentum=0.1, affine=True, track_running_stats=True)\n",
      "        (2): ReLU(inplace=True)\n",
      "        (3): Conv3d(256, 256, kernel_size=(3, 3, 3), stride=(1, 1, 1), padding=(1, 1, 1), bias=False)\n",
      "        (4): BatchNorm3d(256, eps=1e-05, momentum=0.1, affine=True, track_running_stats=True)\n",
      "        (5): ReLU(inplace=True)\n",
      "      )\n",
      "    )\n",
      "    (4): Upsample(scale_factor=2.0, mode=trilinear)\n",
      "    (5): DoubleConv3D(\n",
      "      (conv): Sequential(\n",
      "        (0): Conv3d(384, 128, kernel_size=(3, 3, 3), stride=(1, 1, 1), padding=(1, 1, 1), bias=False)\n",
      "        (1): BatchNorm3d(128, eps=1e-05, momentum=0.1, affine=True, track_running_stats=True)\n",
      "        (2): ReLU(inplace=True)\n",
      "        (3): Conv3d(128, 128, kernel_size=(3, 3, 3), stride=(1, 1, 1), padding=(1, 1, 1), bias=False)\n",
      "        (4): BatchNorm3d(128, eps=1e-05, momentum=0.1, affine=True, track_running_stats=True)\n",
      "        (5): ReLU(inplace=True)\n",
      "      )\n",
      "    )\n",
      "    (6): Upsample(scale_factor=2.0, mode=trilinear)\n",
      "    (7): DoubleConv3D(\n",
      "      (conv): Sequential(\n",
      "        (0): Conv3d(192, 64, kernel_size=(3, 3, 3), stride=(1, 1, 1), padding=(1, 1, 1), bias=False)\n",
      "        (1): BatchNorm3d(64, eps=1e-05, momentum=0.1, affine=True, track_running_stats=True)\n",
      "        (2): ReLU(inplace=True)\n",
      "        (3): Conv3d(64, 64, kernel_size=(3, 3, 3), stride=(1, 1, 1), padding=(1, 1, 1), bias=False)\n",
      "        (4): BatchNorm3d(64, eps=1e-05, momentum=0.1, affine=True, track_running_stats=True)\n",
      "        (5): ReLU(inplace=True)\n",
      "      )\n",
      "    )\n",
      "  )\n",
      "  (bottleneck): DoubleConv3D(\n",
      "    (conv): Sequential(\n",
      "      (0): Conv3d(512, 1024, kernel_size=(3, 3, 3), stride=(1, 1, 1), padding=(1, 1, 1), bias=False)\n",
      "      (1): BatchNorm3d(1024, eps=1e-05, momentum=0.1, affine=True, track_running_stats=True)\n",
      "      (2): ReLU(inplace=True)\n",
      "      (3): Conv3d(1024, 1024, kernel_size=(3, 3, 3), stride=(1, 1, 1), padding=(1, 1, 1), bias=False)\n",
      "      (4): BatchNorm3d(1024, eps=1e-05, momentum=0.1, affine=True, track_running_stats=True)\n",
      "      (5): ReLU(inplace=True)\n",
      "    )\n",
      "  )\n",
      "  (output_conv): Conv3d(64, 3, kernel_size=(1, 1, 1), stride=(1, 1, 1))\n",
      ")\n"
     ]
    }
   ],
   "source": [
    "model = Base3DUNet(3, 3, features=[64, 128, 256, 512], up_sample=True).to(DEVICE)\n",
    "print(model)"
   ],
   "metadata": {
    "collapsed": false
   }
  },
  {
   "cell_type": "code",
   "execution_count": 9,
   "outputs": [],
   "source": [
    "load(model, \"weights/3D/3d_100e_adam_b4_dice_upsampler\")"
   ],
   "metadata": {
    "collapsed": false
   }
  },
  {
   "cell_type": "code",
   "execution_count": 9,
   "outputs": [],
   "source": [
    "# model.train()"
   ],
   "metadata": {
    "collapsed": false
   }
  },
  {
   "cell_type": "code",
   "execution_count": 10,
   "outputs": [
    {
     "name": "stdout",
     "output_type": "stream",
     "text": [
      "total parameters = 94130947\n",
      "total learnable parameters = 94130947\n"
     ]
    }
   ],
   "source": [
    "\n",
    "print(f\"total parameters = {sum(p.numel() for p in model.parameters())}\")\n",
    "print(f\"total learnable parameters = {sum(p.numel() for p in model.parameters() if p.requires_grad)}\")"
   ],
   "metadata": {
    "collapsed": false
   }
  },
  {
   "cell_type": "code",
   "execution_count": 11,
   "outputs": [],
   "source": [
    "opt = torch.optim.Adam(model.parameters(), lr=LR)\n",
    "# loss = torch.nn.BCEWithLogitsLoss # cannot be used because there's a lot of imbalance anyway, so it is better to combine it with dice\n",
    "loss = BCEDiceLoss()\n",
    "# loss = DiceLoss()"
   ],
   "metadata": {
    "collapsed": false
   }
  },
  {
   "cell_type": "code",
   "execution_count": 12,
   "outputs": [
    {
     "name": "stdout",
     "output_type": "stream",
     "text": [
      "cuda\n"
     ]
    }
   ],
   "source": [
    "print(DEVICE)\n"
   ],
   "metadata": {
    "collapsed": false
   }
  },
  {
   "cell_type": "code",
   "execution_count": 13,
   "outputs": [
    {
     "name": "stderr",
     "output_type": "stream",
     "text": [
      "At epoch [1/100]: 100%|██████████| 56/56 [02:29<00:00,  2.67s/it, loss=1.5] \n",
      "At epoch [2/100]: 100%|██████████| 56/56 [02:23<00:00,  2.56s/it, loss=1.48]\n",
      "At epoch [3/100]: 100%|██████████| 56/56 [02:23<00:00,  2.56s/it, loss=1.48]\n",
      "At epoch [4/100]: 100%|██████████| 56/56 [02:23<00:00,  2.56s/it, loss=1.4] \n",
      "At epoch [5/100]: 100%|██████████| 56/56 [02:23<00:00,  2.56s/it, loss=1.31]\n",
      "At epoch [6/100]: 100%|██████████| 56/56 [02:23<00:00,  2.57s/it, loss=1.29]\n",
      "At epoch [7/100]: 100%|██████████| 56/56 [02:23<00:00,  2.56s/it, loss=1.25]\n",
      "At epoch [8/100]: 100%|██████████| 56/56 [02:23<00:00,  2.57s/it, loss=1.21]\n",
      "At epoch [9/100]: 100%|██████████| 56/56 [02:23<00:00,  2.56s/it, loss=1.24]\n",
      "At epoch [10/100]: 100%|██████████| 56/56 [02:23<00:00,  2.56s/it, loss=1.2] \n",
      "At epoch [11/100]: 100%|██████████| 56/56 [02:23<00:00,  2.56s/it, loss=1]   \n",
      "At epoch [12/100]: 100%|██████████| 56/56 [02:23<00:00,  2.56s/it, loss=0.948]\n",
      "At epoch [13/100]: 100%|██████████| 56/56 [02:23<00:00,  2.56s/it, loss=1.07] \n",
      "At epoch [14/100]: 100%|██████████| 56/56 [02:23<00:00,  2.56s/it, loss=0.954]\n",
      "At epoch [15/100]: 100%|██████████| 56/56 [02:23<00:00,  2.56s/it, loss=1.08] \n",
      "At epoch [16/100]: 100%|██████████| 56/56 [02:23<00:00,  2.56s/it, loss=0.948]\n",
      "At epoch [17/100]: 100%|██████████| 56/56 [02:23<00:00,  2.56s/it, loss=0.848]\n",
      "At epoch [18/100]: 100%|██████████| 56/56 [02:23<00:00,  2.56s/it, loss=0.722]\n",
      "At epoch [19/100]: 100%|██████████| 56/56 [02:23<00:00,  2.56s/it, loss=0.811]\n",
      "At epoch [20/100]: 100%|██████████| 56/56 [02:23<00:00,  2.56s/it, loss=0.808]\n",
      "At epoch [21/100]: 100%|██████████| 56/56 [02:23<00:00,  2.56s/it, loss=0.663]\n",
      "At epoch [22/100]: 100%|██████████| 56/56 [02:23<00:00,  2.56s/it, loss=0.804]\n",
      "At epoch [23/100]: 100%|██████████| 56/56 [02:23<00:00,  2.56s/it, loss=0.817]\n",
      "At epoch [24/100]: 100%|██████████| 56/56 [02:23<00:00,  2.56s/it, loss=0.763]\n",
      "At epoch [25/100]: 100%|██████████| 56/56 [02:23<00:00,  2.56s/it, loss=0.826]\n",
      "At epoch [26/100]: 100%|██████████| 56/56 [02:23<00:00,  2.56s/it, loss=0.559]\n",
      "At epoch [27/100]: 100%|██████████| 56/56 [02:23<00:00,  2.56s/it, loss=0.467]\n",
      "At epoch [28/100]: 100%|██████████| 56/56 [02:23<00:00,  2.55s/it, loss=0.588]\n",
      "At epoch [29/100]: 100%|██████████| 56/56 [02:23<00:00,  2.56s/it, loss=0.489]\n",
      "At epoch [30/100]: 100%|██████████| 56/56 [02:23<00:00,  2.55s/it, loss=0.349]\n",
      "At epoch [31/100]: 100%|██████████| 56/56 [02:23<00:00,  2.55s/it, loss=0.765]\n",
      "At epoch [32/100]: 100%|██████████| 56/56 [02:23<00:00,  2.56s/it, loss=0.374]\n",
      "At epoch [33/100]: 100%|██████████| 56/56 [02:23<00:00,  2.56s/it, loss=0.365]\n",
      "At epoch [34/100]: 100%|██████████| 56/56 [02:23<00:00,  2.56s/it, loss=0.241]\n",
      "At epoch [35/100]: 100%|██████████| 56/56 [02:23<00:00,  2.56s/it, loss=0.193]\n",
      "At epoch [36/100]: 100%|██████████| 56/56 [02:23<00:00,  2.56s/it, loss=0.689]\n",
      "At epoch [37/100]: 100%|██████████| 56/56 [02:23<00:00,  2.56s/it, loss=0.186]\n",
      "At epoch [38/100]: 100%|██████████| 56/56 [02:23<00:00,  2.56s/it, loss=0.2]  \n",
      "At epoch [39/100]: 100%|██████████| 56/56 [02:23<00:00,  2.56s/it, loss=0.213]\n",
      "At epoch [40/100]: 100%|██████████| 56/56 [02:23<00:00,  2.56s/it, loss=0.198]\n",
      "At epoch [41/100]: 100%|██████████| 56/56 [02:23<00:00,  2.56s/it, loss=0.161]\n",
      "At epoch [42/100]: 100%|██████████| 56/56 [02:23<00:00,  2.56s/it, loss=0.227]\n",
      "At epoch [43/100]: 100%|██████████| 56/56 [02:23<00:00,  2.57s/it, loss=0.161]\n",
      "At epoch [44/100]: 100%|██████████| 56/56 [02:23<00:00,  2.56s/it, loss=0.193]\n",
      "At epoch [45/100]: 100%|██████████| 56/56 [02:23<00:00,  2.57s/it, loss=0.45] \n",
      "At epoch [46/100]: 100%|██████████| 56/56 [02:23<00:00,  2.56s/it, loss=0.582]\n",
      "At epoch [47/100]: 100%|██████████| 56/56 [02:23<00:00,  2.56s/it, loss=0.259]\n",
      "At epoch [48/100]: 100%|██████████| 56/56 [02:23<00:00,  2.57s/it, loss=0.194]\n",
      "At epoch [49/100]: 100%|██████████| 56/56 [02:23<00:00,  2.57s/it, loss=0.271]\n",
      "At epoch [50/100]: 100%|██████████| 56/56 [02:23<00:00,  2.57s/it, loss=0.121]\n",
      "At epoch [51/100]: 100%|██████████| 56/56 [02:23<00:00,  2.56s/it, loss=0.287]\n",
      "At epoch [52/100]: 100%|██████████| 56/56 [02:23<00:00,  2.56s/it, loss=0.155]\n",
      "At epoch [53/100]: 100%|██████████| 56/56 [02:23<00:00,  2.56s/it, loss=0.22] \n",
      "At epoch [54/100]: 100%|██████████| 56/56 [02:23<00:00,  2.56s/it, loss=0.244]\n",
      "At epoch [55/100]: 100%|██████████| 56/56 [02:23<00:00,  2.56s/it, loss=0.137]\n",
      "At epoch [56/100]: 100%|██████████| 56/56 [02:23<00:00,  2.57s/it, loss=0.136]\n",
      "At epoch [57/100]: 100%|██████████| 56/56 [02:23<00:00,  2.57s/it, loss=0.204]\n",
      "At epoch [58/100]: 100%|██████████| 56/56 [02:23<00:00,  2.56s/it, loss=0.108]\n",
      "At epoch [59/100]: 100%|██████████| 56/56 [02:23<00:00,  2.56s/it, loss=0.344]\n",
      "At epoch [60/100]: 100%|██████████| 56/56 [02:23<00:00,  2.56s/it, loss=0.141]\n",
      "At epoch [61/100]: 100%|██████████| 56/56 [02:23<00:00,  2.56s/it, loss=0.143]\n",
      "At epoch [62/100]: 100%|██████████| 56/56 [02:23<00:00,  2.56s/it, loss=0.188] \n",
      "At epoch [63/100]: 100%|██████████| 56/56 [02:23<00:00,  2.56s/it, loss=0.132] \n",
      "At epoch [64/100]: 100%|██████████| 56/56 [02:23<00:00,  2.56s/it, loss=0.0687]\n",
      "At epoch [65/100]: 100%|██████████| 56/56 [02:23<00:00,  2.56s/it, loss=0.131] \n",
      "At epoch [66/100]: 100%|██████████| 56/56 [02:27<00:00,  2.64s/it, loss=0.19]  \n",
      "At epoch [67/100]: 100%|██████████| 56/56 [02:23<00:00,  2.57s/it, loss=0.178] \n",
      "At epoch [68/100]: 100%|██████████| 56/56 [02:23<00:00,  2.56s/it, loss=0.116]\n",
      "At epoch [69/100]: 100%|██████████| 56/56 [02:23<00:00,  2.56s/it, loss=0.176] \n",
      "At epoch [70/100]: 100%|██████████| 56/56 [02:23<00:00,  2.56s/it, loss=0.188] \n",
      "At epoch [71/100]: 100%|██████████| 56/56 [02:23<00:00,  2.56s/it, loss=0.236] \n",
      "At epoch [72/100]: 100%|██████████| 56/56 [02:23<00:00,  2.56s/it, loss=0.249] \n",
      "At epoch [73/100]: 100%|██████████| 56/56 [02:23<00:00,  2.56s/it, loss=0.165] \n",
      "At epoch [74/100]: 100%|██████████| 56/56 [02:23<00:00,  2.56s/it, loss=0.198] \n",
      "At epoch [75/100]: 100%|██████████| 56/56 [02:23<00:00,  2.56s/it, loss=0.142] \n",
      "At epoch [76/100]: 100%|██████████| 56/56 [02:23<00:00,  2.56s/it, loss=0.14]  \n",
      "At epoch [77/100]: 100%|██████████| 56/56 [02:23<00:00,  2.56s/it, loss=0.183] \n",
      "At epoch [78/100]: 100%|██████████| 56/56 [02:23<00:00,  2.56s/it, loss=0.0983]\n",
      "At epoch [79/100]: 100%|██████████| 56/56 [02:23<00:00,  2.56s/it, loss=0.202] \n",
      "At epoch [80/100]: 100%|██████████| 56/56 [02:23<00:00,  2.56s/it, loss=0.114] \n",
      "At epoch [81/100]: 100%|██████████| 56/56 [02:23<00:00,  2.56s/it, loss=0.215] \n",
      "At epoch [82/100]: 100%|██████████| 56/56 [02:23<00:00,  2.56s/it, loss=0.108] \n",
      "At epoch [83/100]: 100%|██████████| 56/56 [02:23<00:00,  2.56s/it, loss=0.102] \n",
      "At epoch [84/100]: 100%|██████████| 56/56 [02:23<00:00,  2.56s/it, loss=0.14]  \n",
      "At epoch [85/100]: 100%|██████████| 56/56 [02:23<00:00,  2.56s/it, loss=0.125] \n",
      "At epoch [86/100]: 100%|██████████| 56/56 [02:23<00:00,  2.56s/it, loss=0.112] \n",
      "At epoch [87/100]: 100%|██████████| 56/56 [02:23<00:00,  2.56s/it, loss=0.111] \n",
      "At epoch [88/100]: 100%|██████████| 56/56 [02:23<00:00,  2.56s/it, loss=0.19]  \n",
      "At epoch [89/100]: 100%|██████████| 56/56 [02:23<00:00,  2.56s/it, loss=0.115] \n",
      "At epoch [90/100]: 100%|██████████| 56/56 [02:23<00:00,  2.56s/it, loss=0.106] \n",
      "At epoch [91/100]: 100%|██████████| 56/56 [02:23<00:00,  2.57s/it, loss=0.0859]\n",
      "At epoch [92/100]: 100%|██████████| 56/56 [02:23<00:00,  2.56s/it, loss=0.123] \n",
      "At epoch [93/100]: 100%|██████████| 56/56 [02:23<00:00,  2.56s/it, loss=0.17]  \n",
      "At epoch [94/100]: 100%|██████████| 56/56 [02:23<00:00,  2.56s/it, loss=0.147] \n",
      "At epoch [95/100]: 100%|██████████| 56/56 [02:23<00:00,  2.56s/it, loss=0.125] \n",
      "At epoch [96/100]: 100%|██████████| 56/56 [02:23<00:00,  2.56s/it, loss=0.11]  \n",
      "At epoch [97/100]: 100%|██████████| 56/56 [02:25<00:00,  2.59s/it, loss=0.156] \n",
      "At epoch [98/100]: 100%|██████████| 56/56 [02:23<00:00,  2.56s/it, loss=0.104] \n",
      "At epoch [99/100]: 100%|██████████| 56/56 [02:23<00:00,  2.56s/it, loss=0.131] \n",
      "At epoch [100/100]: 100%|██████████| 56/56 [02:23<00:00,  2.56s/it, loss=0.091] \n"
     ]
    }
   ],
   "source": [
    "# train(model, epochs=EPOCHS, training_loader=train_dl, loss_fn=loss, device=DEVICE, optimizer=opt)"
   ],
   "metadata": {
    "collapsed": false
   }
  },
  {
   "cell_type": "code",
   "execution_count": 11,
   "outputs": [
    {
     "name": "stdout",
     "output_type": "stream",
     "text": [
      " Accuracy (TC,ET,WT): \n",
      " --> 99.3720 , 99.7061, 97.4900\n",
      "Dice Score (TC,ET,WT): \n",
      " 2.0 , 2.0, 2.0\n"
     ]
    }
   ],
   "source": [
    "check_accuracy_v2(val_dl,model,DEVICE)\n",
    "# convT\n",
    "# 100 DICE Results: Results: 115510440/116391936 with accuracy 99.3155 Dice score: 0.7647337317466736\n",
    "# 100 BCE-DICE Results: 115626234/116391936 with accuracy 99.3421 Dice score: 0.7765376567840576\n",
    "# upsample\n",
    "# 100 DICE Results: Results: 115510440/116391936 with accuracy 99.3394 Dice score: 0.7728903293609619\n",
    "# 100 BCE-DICE Results: 115626234/116391936 with accuracy 99.3208 Dice score: 0.7685501575469971"
   ],
   "metadata": {
    "collapsed": false
   }
  },
  {
   "cell_type": "code",
   "execution_count": 15,
   "outputs": [
    {
     "name": "stdout",
     "output_type": "stream",
     "text": [
      "saved the model...\n"
     ]
    }
   ],
   "source": [
    "# saving sample\n",
    "# save(model,\"weights/3D/3d_100e_adam_b4_bce_dice_upsampler\")\n",
    "print(\"saved the model...\")"
   ],
   "metadata": {
    "collapsed": false
   }
  },
  {
   "cell_type": "code",
   "execution_count": null,
   "outputs": [],
   "source": [
    "# save(model,\"weights/3D/3d_100e_adam_b4_dice_upsampler\")"
   ],
   "metadata": {
    "collapsed": false
   }
  },
  {
   "cell_type": "code",
   "execution_count": 14,
   "outputs": [
    {
     "name": "stderr",
     "output_type": "stream",
     "text": [
      "At epoch [1/50]: 100%|██████████| 56/56 [01:36<00:00,  1.73s/it, loss=0.201] \n",
      "At epoch [2/50]: 100%|██████████| 56/56 [01:37<00:00,  1.74s/it, loss=0.118]\n",
      "At epoch [3/50]: 100%|██████████| 56/56 [01:37<00:00,  1.74s/it, loss=0.171] \n",
      "At epoch [4/50]: 100%|██████████| 56/56 [01:37<00:00,  1.74s/it, loss=0.188]\n",
      "At epoch [5/50]: 100%|██████████| 56/56 [01:37<00:00,  1.74s/it, loss=0.135]\n",
      "At epoch [6/50]: 100%|██████████| 56/56 [01:37<00:00,  1.74s/it, loss=0.0845]\n",
      "At epoch [7/50]: 100%|██████████| 56/56 [01:37<00:00,  1.74s/it, loss=0.27]  \n",
      "At epoch [8/50]: 100%|██████████| 56/56 [01:37<00:00,  1.74s/it, loss=0.218] \n",
      "At epoch [9/50]: 100%|██████████| 56/56 [01:37<00:00,  1.74s/it, loss=0.225] \n",
      "At epoch [10/50]:  12%|█▎        | 7/56 [00:14<01:28,  1.81s/it, loss=0.128]"
     ]
    }
   ],
   "source": [
    "# train(model, epochs=EPOCHS, training_loader=train_dl, loss_fn=loss, device=DEVICE, optimizer=opt)"
   ],
   "metadata": {
    "collapsed": false
   }
  },
  {
   "cell_type": "code",
   "execution_count": 15,
   "outputs": [],
   "source": [
    "check_accuracy(val_dl,model,DEVICE)"
   ],
   "metadata": {
    "collapsed": false
   }
  },
  {
   "cell_type": "code",
   "execution_count": null,
   "outputs": [],
   "source": [],
   "metadata": {
    "collapsed": false
   }
  },
  {
   "cell_type": "code",
   "execution_count": 19,
   "outputs": [],
   "source": [
    "# loading sample\n",
    "model1 = Base3DUNet(3,3)\n",
    "load(model,\"weights/3D/t1\")"
   ],
   "metadata": {
    "collapsed": false
   }
  }
 ],
 "metadata": {
  "kernelspec": {
   "display_name": "Python 3",
   "language": "python",
   "name": "python3"
  },
  "language_info": {
   "codemirror_mode": {
    "name": "ipython",
    "version": 2
   },
   "file_extension": ".py",
   "mimetype": "text/x-python",
   "name": "python",
   "nbconvert_exporter": "python",
   "pygments_lexer": "ipython2",
   "version": "2.7.6"
  }
 },
 "nbformat": 4,
 "nbformat_minor": 0
}
