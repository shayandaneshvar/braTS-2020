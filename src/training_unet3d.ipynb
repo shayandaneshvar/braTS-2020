{
 "cells": [
  {
   "cell_type": "code",
   "execution_count": 1,
   "metadata": {
    "collapsed": true
   },
   "outputs": [],
   "source": [
    "import torch"
   ]
  },
  {
   "cell_type": "code",
   "execution_count": 2,
   "outputs": [],
   "source": [
    "from util.data import get_dl, get_train_ds, get_val_ds\n",
    "from util.training_utils import train, check_accuracy, save, load\n",
    "from models.Base3DUNet import Base3DUNet\n",
    "from util.loss import DiceLoss, BCEDiceLoss"
   ],
   "metadata": {
    "collapsed": false
   }
  },
  {
   "cell_type": "code",
   "execution_count": 3,
   "outputs": [],
   "source": [
    "BATCH_SIZE = 4\n",
    "EPOCHS = 50\n",
    "DEVICE = torch.device('cuda' if torch.cuda.is_available() else 'cpu')"
   ],
   "metadata": {
    "collapsed": false
   }
  },
  {
   "cell_type": "code",
   "execution_count": 4,
   "outputs": [],
   "source": [
    "LR = 0.0001\n",
    "# DEVICE = 'cpu'"
   ],
   "metadata": {
    "collapsed": false
   }
  },
  {
   "cell_type": "code",
   "execution_count": 5,
   "outputs": [
    {
     "name": "stdout",
     "output_type": "stream",
     "text": [
      "images: 221, masks: 221 \n",
      "images: 148, masks: 148 \n"
     ]
    }
   ],
   "source": [
    "train_dl = get_dl(get_train_ds(), BATCH_SIZE,nw=2)\n",
    "val_dl = get_dl(get_val_ds(), BATCH_SIZE, nw=2)"
   ],
   "metadata": {
    "collapsed": false
   }
  },
  {
   "cell_type": "code",
   "execution_count": 6,
   "outputs": [
    {
     "data": {
      "text/plain": "0"
     },
     "execution_count": 6,
     "metadata": {},
     "output_type": "execute_result"
    }
   ],
   "source": [
    "import gc\n",
    "torch.cuda.empty_cache()\n",
    "gc.collect()"
   ],
   "metadata": {
    "collapsed": false
   }
  },
  {
   "cell_type": "code",
   "execution_count": 7,
   "outputs": [
    {
     "name": "stdout",
     "output_type": "stream",
     "text": [
      "Base3DUNet(\n",
      "  (pooling): MaxPool3d(kernel_size=2, stride=2, padding=0, dilation=1, ceil_mode=False)\n",
      "  (downs): ModuleList(\n",
      "    (0): DoubleConv3D(\n",
      "      (conv): Sequential(\n",
      "        (0): Conv3d(3, 64, kernel_size=(3, 3, 3), stride=(1, 1, 1), padding=(1, 1, 1), bias=False)\n",
      "        (1): BatchNorm3d(64, eps=1e-05, momentum=0.1, affine=True, track_running_stats=True)\n",
      "        (2): ReLU(inplace=True)\n",
      "        (3): Conv3d(64, 64, kernel_size=(3, 3, 3), stride=(1, 1, 1), padding=(1, 1, 1), bias=False)\n",
      "        (4): BatchNorm3d(64, eps=1e-05, momentum=0.1, affine=True, track_running_stats=True)\n",
      "        (5): ReLU(inplace=True)\n",
      "      )\n",
      "    )\n",
      "    (1): DoubleConv3D(\n",
      "      (conv): Sequential(\n",
      "        (0): Conv3d(64, 128, kernel_size=(3, 3, 3), stride=(1, 1, 1), padding=(1, 1, 1), bias=False)\n",
      "        (1): BatchNorm3d(128, eps=1e-05, momentum=0.1, affine=True, track_running_stats=True)\n",
      "        (2): ReLU(inplace=True)\n",
      "        (3): Conv3d(128, 128, kernel_size=(3, 3, 3), stride=(1, 1, 1), padding=(1, 1, 1), bias=False)\n",
      "        (4): BatchNorm3d(128, eps=1e-05, momentum=0.1, affine=True, track_running_stats=True)\n",
      "        (5): ReLU(inplace=True)\n",
      "      )\n",
      "    )\n",
      "    (2): DoubleConv3D(\n",
      "      (conv): Sequential(\n",
      "        (0): Conv3d(128, 256, kernel_size=(3, 3, 3), stride=(1, 1, 1), padding=(1, 1, 1), bias=False)\n",
      "        (1): BatchNorm3d(256, eps=1e-05, momentum=0.1, affine=True, track_running_stats=True)\n",
      "        (2): ReLU(inplace=True)\n",
      "        (3): Conv3d(256, 256, kernel_size=(3, 3, 3), stride=(1, 1, 1), padding=(1, 1, 1), bias=False)\n",
      "        (4): BatchNorm3d(256, eps=1e-05, momentum=0.1, affine=True, track_running_stats=True)\n",
      "        (5): ReLU(inplace=True)\n",
      "      )\n",
      "    )\n",
      "    (3): DoubleConv3D(\n",
      "      (conv): Sequential(\n",
      "        (0): Conv3d(256, 512, kernel_size=(3, 3, 3), stride=(1, 1, 1), padding=(1, 1, 1), bias=False)\n",
      "        (1): BatchNorm3d(512, eps=1e-05, momentum=0.1, affine=True, track_running_stats=True)\n",
      "        (2): ReLU(inplace=True)\n",
      "        (3): Conv3d(512, 512, kernel_size=(3, 3, 3), stride=(1, 1, 1), padding=(1, 1, 1), bias=False)\n",
      "        (4): BatchNorm3d(512, eps=1e-05, momentum=0.1, affine=True, track_running_stats=True)\n",
      "        (5): ReLU(inplace=True)\n",
      "      )\n",
      "    )\n",
      "  )\n",
      "  (ups): ModuleList(\n",
      "    (0): ConvTranspose3d(1024, 512, kernel_size=(2, 2, 2), stride=(2, 2, 2))\n",
      "    (1): DoubleConv3D(\n",
      "      (conv): Sequential(\n",
      "        (0): Conv3d(1024, 512, kernel_size=(3, 3, 3), stride=(1, 1, 1), padding=(1, 1, 1), bias=False)\n",
      "        (1): BatchNorm3d(512, eps=1e-05, momentum=0.1, affine=True, track_running_stats=True)\n",
      "        (2): ReLU(inplace=True)\n",
      "        (3): Conv3d(512, 512, kernel_size=(3, 3, 3), stride=(1, 1, 1), padding=(1, 1, 1), bias=False)\n",
      "        (4): BatchNorm3d(512, eps=1e-05, momentum=0.1, affine=True, track_running_stats=True)\n",
      "        (5): ReLU(inplace=True)\n",
      "      )\n",
      "    )\n",
      "    (2): ConvTranspose3d(512, 256, kernel_size=(2, 2, 2), stride=(2, 2, 2))\n",
      "    (3): DoubleConv3D(\n",
      "      (conv): Sequential(\n",
      "        (0): Conv3d(512, 256, kernel_size=(3, 3, 3), stride=(1, 1, 1), padding=(1, 1, 1), bias=False)\n",
      "        (1): BatchNorm3d(256, eps=1e-05, momentum=0.1, affine=True, track_running_stats=True)\n",
      "        (2): ReLU(inplace=True)\n",
      "        (3): Conv3d(256, 256, kernel_size=(3, 3, 3), stride=(1, 1, 1), padding=(1, 1, 1), bias=False)\n",
      "        (4): BatchNorm3d(256, eps=1e-05, momentum=0.1, affine=True, track_running_stats=True)\n",
      "        (5): ReLU(inplace=True)\n",
      "      )\n",
      "    )\n",
      "    (4): ConvTranspose3d(256, 128, kernel_size=(2, 2, 2), stride=(2, 2, 2))\n",
      "    (5): DoubleConv3D(\n",
      "      (conv): Sequential(\n",
      "        (0): Conv3d(256, 128, kernel_size=(3, 3, 3), stride=(1, 1, 1), padding=(1, 1, 1), bias=False)\n",
      "        (1): BatchNorm3d(128, eps=1e-05, momentum=0.1, affine=True, track_running_stats=True)\n",
      "        (2): ReLU(inplace=True)\n",
      "        (3): Conv3d(128, 128, kernel_size=(3, 3, 3), stride=(1, 1, 1), padding=(1, 1, 1), bias=False)\n",
      "        (4): BatchNorm3d(128, eps=1e-05, momentum=0.1, affine=True, track_running_stats=True)\n",
      "        (5): ReLU(inplace=True)\n",
      "      )\n",
      "    )\n",
      "    (6): ConvTranspose3d(128, 64, kernel_size=(2, 2, 2), stride=(2, 2, 2))\n",
      "    (7): DoubleConv3D(\n",
      "      (conv): Sequential(\n",
      "        (0): Conv3d(128, 64, kernel_size=(3, 3, 3), stride=(1, 1, 1), padding=(1, 1, 1), bias=False)\n",
      "        (1): BatchNorm3d(64, eps=1e-05, momentum=0.1, affine=True, track_running_stats=True)\n",
      "        (2): ReLU(inplace=True)\n",
      "        (3): Conv3d(64, 64, kernel_size=(3, 3, 3), stride=(1, 1, 1), padding=(1, 1, 1), bias=False)\n",
      "        (4): BatchNorm3d(64, eps=1e-05, momentum=0.1, affine=True, track_running_stats=True)\n",
      "        (5): ReLU(inplace=True)\n",
      "      )\n",
      "    )\n",
      "  )\n",
      "  (bottleneck): DoubleConv3D(\n",
      "    (conv): Sequential(\n",
      "      (0): Conv3d(512, 1024, kernel_size=(3, 3, 3), stride=(1, 1, 1), padding=(1, 1, 1), bias=False)\n",
      "      (1): BatchNorm3d(1024, eps=1e-05, momentum=0.1, affine=True, track_running_stats=True)\n",
      "      (2): ReLU(inplace=True)\n",
      "      (3): Conv3d(1024, 1024, kernel_size=(3, 3, 3), stride=(1, 1, 1), padding=(1, 1, 1), bias=False)\n",
      "      (4): BatchNorm3d(1024, eps=1e-05, momentum=0.1, affine=True, track_running_stats=True)\n",
      "      (5): ReLU(inplace=True)\n",
      "    )\n",
      "  )\n",
      "  (output_conv): Conv3d(64, 3, kernel_size=(1, 1, 1), stride=(1, 1, 1))\n",
      ")\n"
     ]
    }
   ],
   "source": [
    "model = Base3DUNet(3, 3, features=[64, 128, 256, 512]).to(DEVICE)\n",
    "print(model)"
   ],
   "metadata": {
    "collapsed": false
   }
  },
  {
   "cell_type": "code",
   "execution_count": 9,
   "outputs": [],
   "source": [
    "load(model, \"weights/3D/3d_50e_adam_b4_dice\")"
   ],
   "metadata": {
    "collapsed": false
   }
  },
  {
   "cell_type": "code",
   "execution_count": 10,
   "outputs": [
    {
     "data": {
      "text/plain": "Base3DUNet(\n  (pooling): MaxPool3d(kernel_size=2, stride=2, padding=0, dilation=1, ceil_mode=False)\n  (downs): ModuleList(\n    (0): DoubleConv3D(\n      (conv): Sequential(\n        (0): Conv3d(3, 64, kernel_size=(3, 3, 3), stride=(1, 1, 1), padding=(1, 1, 1), bias=False)\n        (1): BatchNorm3d(64, eps=1e-05, momentum=0.1, affine=True, track_running_stats=True)\n        (2): ReLU(inplace=True)\n        (3): Conv3d(64, 64, kernel_size=(3, 3, 3), stride=(1, 1, 1), padding=(1, 1, 1), bias=False)\n        (4): BatchNorm3d(64, eps=1e-05, momentum=0.1, affine=True, track_running_stats=True)\n        (5): ReLU(inplace=True)\n      )\n    )\n    (1): DoubleConv3D(\n      (conv): Sequential(\n        (0): Conv3d(64, 128, kernel_size=(3, 3, 3), stride=(1, 1, 1), padding=(1, 1, 1), bias=False)\n        (1): BatchNorm3d(128, eps=1e-05, momentum=0.1, affine=True, track_running_stats=True)\n        (2): ReLU(inplace=True)\n        (3): Conv3d(128, 128, kernel_size=(3, 3, 3), stride=(1, 1, 1), padding=(1, 1, 1), bias=False)\n        (4): BatchNorm3d(128, eps=1e-05, momentum=0.1, affine=True, track_running_stats=True)\n        (5): ReLU(inplace=True)\n      )\n    )\n    (2): DoubleConv3D(\n      (conv): Sequential(\n        (0): Conv3d(128, 256, kernel_size=(3, 3, 3), stride=(1, 1, 1), padding=(1, 1, 1), bias=False)\n        (1): BatchNorm3d(256, eps=1e-05, momentum=0.1, affine=True, track_running_stats=True)\n        (2): ReLU(inplace=True)\n        (3): Conv3d(256, 256, kernel_size=(3, 3, 3), stride=(1, 1, 1), padding=(1, 1, 1), bias=False)\n        (4): BatchNorm3d(256, eps=1e-05, momentum=0.1, affine=True, track_running_stats=True)\n        (5): ReLU(inplace=True)\n      )\n    )\n    (3): DoubleConv3D(\n      (conv): Sequential(\n        (0): Conv3d(256, 512, kernel_size=(3, 3, 3), stride=(1, 1, 1), padding=(1, 1, 1), bias=False)\n        (1): BatchNorm3d(512, eps=1e-05, momentum=0.1, affine=True, track_running_stats=True)\n        (2): ReLU(inplace=True)\n        (3): Conv3d(512, 512, kernel_size=(3, 3, 3), stride=(1, 1, 1), padding=(1, 1, 1), bias=False)\n        (4): BatchNorm3d(512, eps=1e-05, momentum=0.1, affine=True, track_running_stats=True)\n        (5): ReLU(inplace=True)\n      )\n    )\n  )\n  (ups): ModuleList(\n    (0): ConvTranspose3d(1024, 512, kernel_size=(2, 2, 2), stride=(2, 2, 2))\n    (1): DoubleConv3D(\n      (conv): Sequential(\n        (0): Conv3d(1024, 512, kernel_size=(3, 3, 3), stride=(1, 1, 1), padding=(1, 1, 1), bias=False)\n        (1): BatchNorm3d(512, eps=1e-05, momentum=0.1, affine=True, track_running_stats=True)\n        (2): ReLU(inplace=True)\n        (3): Conv3d(512, 512, kernel_size=(3, 3, 3), stride=(1, 1, 1), padding=(1, 1, 1), bias=False)\n        (4): BatchNorm3d(512, eps=1e-05, momentum=0.1, affine=True, track_running_stats=True)\n        (5): ReLU(inplace=True)\n      )\n    )\n    (2): ConvTranspose3d(512, 256, kernel_size=(2, 2, 2), stride=(2, 2, 2))\n    (3): DoubleConv3D(\n      (conv): Sequential(\n        (0): Conv3d(512, 256, kernel_size=(3, 3, 3), stride=(1, 1, 1), padding=(1, 1, 1), bias=False)\n        (1): BatchNorm3d(256, eps=1e-05, momentum=0.1, affine=True, track_running_stats=True)\n        (2): ReLU(inplace=True)\n        (3): Conv3d(256, 256, kernel_size=(3, 3, 3), stride=(1, 1, 1), padding=(1, 1, 1), bias=False)\n        (4): BatchNorm3d(256, eps=1e-05, momentum=0.1, affine=True, track_running_stats=True)\n        (5): ReLU(inplace=True)\n      )\n    )\n    (4): ConvTranspose3d(256, 128, kernel_size=(2, 2, 2), stride=(2, 2, 2))\n    (5): DoubleConv3D(\n      (conv): Sequential(\n        (0): Conv3d(256, 128, kernel_size=(3, 3, 3), stride=(1, 1, 1), padding=(1, 1, 1), bias=False)\n        (1): BatchNorm3d(128, eps=1e-05, momentum=0.1, affine=True, track_running_stats=True)\n        (2): ReLU(inplace=True)\n        (3): Conv3d(128, 128, kernel_size=(3, 3, 3), stride=(1, 1, 1), padding=(1, 1, 1), bias=False)\n        (4): BatchNorm3d(128, eps=1e-05, momentum=0.1, affine=True, track_running_stats=True)\n        (5): ReLU(inplace=True)\n      )\n    )\n    (6): ConvTranspose3d(128, 64, kernel_size=(2, 2, 2), stride=(2, 2, 2))\n    (7): DoubleConv3D(\n      (conv): Sequential(\n        (0): Conv3d(128, 64, kernel_size=(3, 3, 3), stride=(1, 1, 1), padding=(1, 1, 1), bias=False)\n        (1): BatchNorm3d(64, eps=1e-05, momentum=0.1, affine=True, track_running_stats=True)\n        (2): ReLU(inplace=True)\n        (3): Conv3d(64, 64, kernel_size=(3, 3, 3), stride=(1, 1, 1), padding=(1, 1, 1), bias=False)\n        (4): BatchNorm3d(64, eps=1e-05, momentum=0.1, affine=True, track_running_stats=True)\n        (5): ReLU(inplace=True)\n      )\n    )\n  )\n  (bottleneck): DoubleConv3D(\n    (conv): Sequential(\n      (0): Conv3d(512, 1024, kernel_size=(3, 3, 3), stride=(1, 1, 1), padding=(1, 1, 1), bias=False)\n      (1): BatchNorm3d(1024, eps=1e-05, momentum=0.1, affine=True, track_running_stats=True)\n      (2): ReLU(inplace=True)\n      (3): Conv3d(1024, 1024, kernel_size=(3, 3, 3), stride=(1, 1, 1), padding=(1, 1, 1), bias=False)\n      (4): BatchNorm3d(1024, eps=1e-05, momentum=0.1, affine=True, track_running_stats=True)\n      (5): ReLU(inplace=True)\n    )\n  )\n  (output_conv): Conv3d(64, 3, kernel_size=(1, 1, 1), stride=(1, 1, 1))\n)"
     },
     "execution_count": 10,
     "metadata": {},
     "output_type": "execute_result"
    }
   ],
   "source": [
    "model.train()"
   ],
   "metadata": {
    "collapsed": false
   }
  },
  {
   "cell_type": "code",
   "execution_count": 8,
   "outputs": [
    {
     "name": "stdout",
     "output_type": "stream",
     "text": [
      "total parameters = 90302147\n",
      "total learnable parameters = 90302147\n"
     ]
    }
   ],
   "source": [
    "\n",
    "print(f\"total parameters = {sum(p.numel() for p in model.parameters())}\")\n",
    "print(f\"total learnable parameters = {sum(p.numel() for p in model.parameters() if p.requires_grad)}\")"
   ],
   "metadata": {
    "collapsed": false
   }
  },
  {
   "cell_type": "code",
   "execution_count": 11,
   "outputs": [],
   "source": [
    "opt = torch.optim.Adam(model.parameters(), lr=LR)\n",
    "# loss = torch.nn.BCEWithLogitsLoss # cannot be used because there's a lot of imbalance anyway, so it is better to combine it with dice\n",
    "loss = DiceLoss()"
   ],
   "metadata": {
    "collapsed": false
   }
  },
  {
   "cell_type": "code",
   "execution_count": 12,
   "outputs": [
    {
     "name": "stdout",
     "output_type": "stream",
     "text": [
      "cuda\n"
     ]
    }
   ],
   "source": [
    "print(DEVICE)\n"
   ],
   "metadata": {
    "collapsed": false
   }
  },
  {
   "cell_type": "code",
   "execution_count": 13,
   "outputs": [
    {
     "name": "stderr",
     "output_type": "stream",
     "text": [
      "At epoch [1/50]: 100%|██████████| 56/56 [01:31<00:00,  1.63s/it, loss=0.209] \n",
      "At epoch [2/50]: 100%|██████████| 56/56 [01:37<00:00,  1.75s/it, loss=0.166] \n",
      "At epoch [3/50]: 100%|██████████| 56/56 [01:37<00:00,  1.75s/it, loss=0.523] \n",
      "At epoch [4/50]: 100%|██████████| 56/56 [01:37<00:00,  1.75s/it, loss=0.188] \n",
      "At epoch [5/50]: 100%|██████████| 56/56 [01:37<00:00,  1.75s/it, loss=0.117]\n",
      "At epoch [6/50]: 100%|██████████| 56/56 [01:37<00:00,  1.74s/it, loss=0.121] \n",
      "At epoch [7/50]: 100%|██████████| 56/56 [01:37<00:00,  1.75s/it, loss=0.21]  \n",
      "At epoch [8/50]: 100%|██████████| 56/56 [01:37<00:00,  1.75s/it, loss=0.0908]\n",
      "At epoch [9/50]: 100%|██████████| 56/56 [01:37<00:00,  1.75s/it, loss=0.246] \n",
      "At epoch [10/50]: 100%|██████████| 56/56 [01:37<00:00,  1.74s/it, loss=0.133] \n",
      "At epoch [11/50]: 100%|██████████| 56/56 [01:37<00:00,  1.75s/it, loss=0.196] \n",
      "At epoch [12/50]: 100%|██████████| 56/56 [01:37<00:00,  1.75s/it, loss=0.108] \n",
      "At epoch [13/50]: 100%|██████████| 56/56 [01:37<00:00,  1.74s/it, loss=0.0659]\n",
      "At epoch [14/50]: 100%|██████████| 56/56 [01:37<00:00,  1.75s/it, loss=0.239] \n",
      "At epoch [15/50]: 100%|██████████| 56/56 [01:37<00:00,  1.75s/it, loss=0.0863]\n",
      "At epoch [16/50]: 100%|██████████| 56/56 [01:37<00:00,  1.75s/it, loss=0.146] \n",
      "At epoch [17/50]: 100%|██████████| 56/56 [01:38<00:00,  1.75s/it, loss=0.191] \n",
      "At epoch [18/50]: 100%|██████████| 56/56 [01:37<00:00,  1.75s/it, loss=0.301] \n",
      "At epoch [19/50]: 100%|██████████| 56/56 [01:37<00:00,  1.75s/it, loss=0.196] \n",
      "At epoch [20/50]: 100%|██████████| 56/56 [01:37<00:00,  1.75s/it, loss=0.178] \n",
      "At epoch [21/50]: 100%|██████████| 56/56 [01:37<00:00,  1.74s/it, loss=0.0602]\n",
      "At epoch [22/50]: 100%|██████████| 56/56 [01:37<00:00,  1.75s/it, loss=0.153] \n",
      "At epoch [23/50]: 100%|██████████| 56/56 [01:37<00:00,  1.75s/it, loss=0.0569]\n",
      "At epoch [24/50]: 100%|██████████| 56/56 [01:37<00:00,  1.75s/it, loss=0.212] \n",
      "At epoch [25/50]: 100%|██████████| 56/56 [01:37<00:00,  1.74s/it, loss=0.114] \n",
      "At epoch [26/50]: 100%|██████████| 56/56 [01:37<00:00,  1.74s/it, loss=0.0815]\n",
      "At epoch [27/50]: 100%|██████████| 56/56 [01:37<00:00,  1.75s/it, loss=0.145] \n",
      "At epoch [28/50]: 100%|██████████| 56/56 [01:37<00:00,  1.75s/it, loss=0.2]   \n",
      "At epoch [29/50]: 100%|██████████| 56/56 [01:37<00:00,  1.75s/it, loss=0.0787]\n",
      "At epoch [30/50]: 100%|██████████| 56/56 [01:37<00:00,  1.75s/it, loss=0.147] \n",
      "At epoch [31/50]: 100%|██████████| 56/56 [01:37<00:00,  1.75s/it, loss=0.0733]\n",
      "At epoch [32/50]: 100%|██████████| 56/56 [01:37<00:00,  1.74s/it, loss=0.0461]\n",
      "At epoch [33/50]: 100%|██████████| 56/56 [01:37<00:00,  1.75s/it, loss=0.0764]\n",
      "At epoch [34/50]: 100%|██████████| 56/56 [01:37<00:00,  1.75s/it, loss=0.304] \n",
      "At epoch [35/50]: 100%|██████████| 56/56 [01:37<00:00,  1.75s/it, loss=0.136] \n",
      "At epoch [36/50]: 100%|██████████| 56/56 [01:37<00:00,  1.74s/it, loss=0.103] \n",
      "At epoch [37/50]: 100%|██████████| 56/56 [01:37<00:00,  1.74s/it, loss=0.204] \n",
      "At epoch [38/50]: 100%|██████████| 56/56 [01:37<00:00,  1.75s/it, loss=0.143] \n",
      "At epoch [39/50]: 100%|██████████| 56/56 [01:37<00:00,  1.74s/it, loss=0.144] \n",
      "At epoch [40/50]: 100%|██████████| 56/56 [01:37<00:00,  1.74s/it, loss=0.107] \n",
      "At epoch [41/50]: 100%|██████████| 56/56 [01:37<00:00,  1.74s/it, loss=0.11]  \n",
      "At epoch [42/50]: 100%|██████████| 56/56 [01:37<00:00,  1.74s/it, loss=0.101] \n",
      "At epoch [43/50]: 100%|██████████| 56/56 [01:37<00:00,  1.75s/it, loss=0.146] \n",
      "At epoch [44/50]: 100%|██████████| 56/56 [01:37<00:00,  1.74s/it, loss=0.117] \n",
      "At epoch [45/50]: 100%|██████████| 56/56 [01:37<00:00,  1.75s/it, loss=0.0829]\n",
      "At epoch [46/50]: 100%|██████████| 56/56 [01:37<00:00,  1.75s/it, loss=0.0686]\n",
      "At epoch [47/50]: 100%|██████████| 56/56 [01:37<00:00,  1.75s/it, loss=0.147] \n",
      "At epoch [48/50]: 100%|██████████| 56/56 [01:36<00:00,  1.73s/it, loss=0.0997]\n",
      "At epoch [49/50]: 100%|██████████| 56/56 [01:37<00:00,  1.75s/it, loss=0.152] \n",
      "At epoch [50/50]: 100%|██████████| 56/56 [01:37<00:00,  1.75s/it, loss=0.098] \n"
     ]
    }
   ],
   "source": [
    "train(model, epochs=EPOCHS, training_loader=train_dl, loss_fn=loss, device=DEVICE, optimizer=opt)"
   ],
   "metadata": {
    "collapsed": false
   }
  },
  {
   "cell_type": "code",
   "execution_count": 14,
   "outputs": [
    {
     "name": "stdout",
     "output_type": "stream",
     "text": [
      "Results: 115510440/116391936 with accuracy 99.2427\n",
      "Dice score: 0.7560997009277344\n"
     ]
    }
   ],
   "source": [
    "check_accuracy(val_dl,model,DEVICE)\n",
    "# 50 Results: 115540617/116391936 with accuracy 99.2686 Dice score: 0.7475918531417847\n",
    "# 100 Results: Results: 115510440/116391936 with accuracy 99.2427 Dice score: 0.7560997009277344"
   ],
   "metadata": {
    "collapsed": false
   }
  },
  {
   "cell_type": "code",
   "execution_count": 15,
   "outputs": [],
   "source": [
    "# saving sample\n",
    "save(model,\"weights/3D/3d_100e_adam_b4_dice\")"
   ],
   "metadata": {
    "collapsed": false
   }
  },
  {
   "cell_type": "code",
   "execution_count": 14,
   "outputs": [
    {
     "name": "stderr",
     "output_type": "stream",
     "text": [
      "At epoch [1/50]: 100%|██████████| 56/56 [01:36<00:00,  1.73s/it, loss=0.201] \n",
      "At epoch [2/50]: 100%|██████████| 56/56 [01:37<00:00,  1.74s/it, loss=0.118]\n",
      "At epoch [3/50]: 100%|██████████| 56/56 [01:37<00:00,  1.74s/it, loss=0.171] \n",
      "At epoch [4/50]: 100%|██████████| 56/56 [01:37<00:00,  1.74s/it, loss=0.188]\n",
      "At epoch [5/50]: 100%|██████████| 56/56 [01:37<00:00,  1.74s/it, loss=0.135]\n",
      "At epoch [6/50]: 100%|██████████| 56/56 [01:37<00:00,  1.74s/it, loss=0.0845]\n",
      "At epoch [7/50]: 100%|██████████| 56/56 [01:37<00:00,  1.74s/it, loss=0.27]  \n",
      "At epoch [8/50]: 100%|██████████| 56/56 [01:37<00:00,  1.74s/it, loss=0.218] \n",
      "At epoch [9/50]: 100%|██████████| 56/56 [01:37<00:00,  1.74s/it, loss=0.225] \n",
      "At epoch [10/50]:  12%|█▎        | 7/56 [00:14<01:28,  1.81s/it, loss=0.128]"
     ]
    }
   ],
   "source": [
    "train(model, epochs=EPOCHS, training_loader=train_dl, loss_fn=loss, device=DEVICE, optimizer=opt)"
   ],
   "metadata": {
    "collapsed": false
   }
  },
  {
   "cell_type": "code",
   "execution_count": 15,
   "outputs": [],
   "source": [
    "check_accuracy(val_dl,model,DEVICE)"
   ],
   "metadata": {
    "collapsed": false
   }
  },
  {
   "cell_type": "code",
   "execution_count": null,
   "outputs": [],
   "source": [],
   "metadata": {
    "collapsed": false
   }
  },
  {
   "cell_type": "code",
   "execution_count": 19,
   "outputs": [],
   "source": [
    "# loading sample\n",
    "model1 = Base3DUNet(3,3)\n",
    "load(model,\"weights/3D/t1\")"
   ],
   "metadata": {
    "collapsed": false
   }
  }
 ],
 "metadata": {
  "kernelspec": {
   "display_name": "Python 3",
   "language": "python",
   "name": "python3"
  },
  "language_info": {
   "codemirror_mode": {
    "name": "ipython",
    "version": 2
   },
   "file_extension": ".py",
   "mimetype": "text/x-python",
   "name": "python",
   "nbconvert_exporter": "python",
   "pygments_lexer": "ipython2",
   "version": "2.7.6"
  }
 },
 "nbformat": 4,
 "nbformat_minor": 0
}
