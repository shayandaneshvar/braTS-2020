{
 "cells": [
  {
   "cell_type": "code",
   "execution_count": 2,
   "metadata": {
    "collapsed": true
   },
   "outputs": [],
   "source": [
    "import torch"
   ]
  },
  {
   "cell_type": "code",
   "execution_count": 3,
   "outputs": [],
   "source": [
    "from util.data import get_dl, get_train_ds, get_val_ds\n",
    "from util.training_utils import train, check_accuracy, save, load\n",
    "from models.Base3DUNet import Base3DUNet\n",
    "from util.loss import DiceLoss, BCEDiceLoss"
   ],
   "metadata": {
    "collapsed": false
   }
  },
  {
   "cell_type": "code",
   "execution_count": 4,
   "outputs": [],
   "source": [
    "BATCH_SIZE = 4\n",
    "EPOCHS = 100\n",
    "DEVICE = torch.device('cuda' if torch.cuda.is_available() else 'cpu')"
   ],
   "metadata": {
    "collapsed": false
   }
  },
  {
   "cell_type": "code",
   "execution_count": 5,
   "outputs": [],
   "source": [
    "LR = 0.0001\n",
    "# DEVICE = 'cpu'"
   ],
   "metadata": {
    "collapsed": false
   }
  },
  {
   "cell_type": "code",
   "execution_count": 6,
   "outputs": [
    {
     "name": "stdout",
     "output_type": "stream",
     "text": [
      "images: 221, masks: 221 \n",
      "images: 148, masks: 148 \n"
     ]
    }
   ],
   "source": [
    "train_dl = get_dl(get_train_ds(), BATCH_SIZE,nw=2)\n",
    "val_dl = get_dl(get_val_ds(), BATCH_SIZE, nw=2)"
   ],
   "metadata": {
    "collapsed": false
   }
  },
  {
   "cell_type": "code",
   "execution_count": 9,
   "outputs": [
    {
     "data": {
      "text/plain": "6"
     },
     "execution_count": 9,
     "metadata": {},
     "output_type": "execute_result"
    }
   ],
   "source": [
    "import gc\n",
    "torch.cuda.empty_cache()\n",
    "gc.collect()"
   ],
   "metadata": {
    "collapsed": false
   }
  },
  {
   "cell_type": "code",
   "execution_count": 10,
   "outputs": [
    {
     "name": "stdout",
     "output_type": "stream",
     "text": [
      "Base3DUNet(\n",
      "  (pooling): MaxPool3d(kernel_size=2, stride=2, padding=0, dilation=1, ceil_mode=False)\n",
      "  (downs): ModuleList(\n",
      "    (0): DoubleConv3D(\n",
      "      (conv): Sequential(\n",
      "        (0): Conv3d(3, 64, kernel_size=(3, 3, 3), stride=(1, 1, 1), padding=(1, 1, 1), bias=False)\n",
      "        (1): BatchNorm3d(64, eps=1e-05, momentum=0.1, affine=True, track_running_stats=True)\n",
      "        (2): ReLU(inplace=True)\n",
      "        (3): Conv3d(64, 64, kernel_size=(3, 3, 3), stride=(1, 1, 1), padding=(1, 1, 1), bias=False)\n",
      "        (4): BatchNorm3d(64, eps=1e-05, momentum=0.1, affine=True, track_running_stats=True)\n",
      "        (5): ReLU(inplace=True)\n",
      "      )\n",
      "    )\n",
      "    (1): DoubleConv3D(\n",
      "      (conv): Sequential(\n",
      "        (0): Conv3d(64, 128, kernel_size=(3, 3, 3), stride=(1, 1, 1), padding=(1, 1, 1), bias=False)\n",
      "        (1): BatchNorm3d(128, eps=1e-05, momentum=0.1, affine=True, track_running_stats=True)\n",
      "        (2): ReLU(inplace=True)\n",
      "        (3): Conv3d(128, 128, kernel_size=(3, 3, 3), stride=(1, 1, 1), padding=(1, 1, 1), bias=False)\n",
      "        (4): BatchNorm3d(128, eps=1e-05, momentum=0.1, affine=True, track_running_stats=True)\n",
      "        (5): ReLU(inplace=True)\n",
      "      )\n",
      "    )\n",
      "    (2): DoubleConv3D(\n",
      "      (conv): Sequential(\n",
      "        (0): Conv3d(128, 256, kernel_size=(3, 3, 3), stride=(1, 1, 1), padding=(1, 1, 1), bias=False)\n",
      "        (1): BatchNorm3d(256, eps=1e-05, momentum=0.1, affine=True, track_running_stats=True)\n",
      "        (2): ReLU(inplace=True)\n",
      "        (3): Conv3d(256, 256, kernel_size=(3, 3, 3), stride=(1, 1, 1), padding=(1, 1, 1), bias=False)\n",
      "        (4): BatchNorm3d(256, eps=1e-05, momentum=0.1, affine=True, track_running_stats=True)\n",
      "        (5): ReLU(inplace=True)\n",
      "      )\n",
      "    )\n",
      "    (3): DoubleConv3D(\n",
      "      (conv): Sequential(\n",
      "        (0): Conv3d(256, 512, kernel_size=(3, 3, 3), stride=(1, 1, 1), padding=(1, 1, 1), bias=False)\n",
      "        (1): BatchNorm3d(512, eps=1e-05, momentum=0.1, affine=True, track_running_stats=True)\n",
      "        (2): ReLU(inplace=True)\n",
      "        (3): Conv3d(512, 512, kernel_size=(3, 3, 3), stride=(1, 1, 1), padding=(1, 1, 1), bias=False)\n",
      "        (4): BatchNorm3d(512, eps=1e-05, momentum=0.1, affine=True, track_running_stats=True)\n",
      "        (5): ReLU(inplace=True)\n",
      "      )\n",
      "    )\n",
      "  )\n",
      "  (ups): ModuleList(\n",
      "    (0): Upsample(scale_factor=2.0, mode=trilinear)\n",
      "    (1): DoubleConv3D(\n",
      "      (conv): Sequential(\n",
      "        (0): Conv3d(1536, 512, kernel_size=(3, 3, 3), stride=(1, 1, 1), padding=(1, 1, 1), bias=False)\n",
      "        (1): BatchNorm3d(512, eps=1e-05, momentum=0.1, affine=True, track_running_stats=True)\n",
      "        (2): ReLU(inplace=True)\n",
      "        (3): Conv3d(512, 512, kernel_size=(3, 3, 3), stride=(1, 1, 1), padding=(1, 1, 1), bias=False)\n",
      "        (4): BatchNorm3d(512, eps=1e-05, momentum=0.1, affine=True, track_running_stats=True)\n",
      "        (5): ReLU(inplace=True)\n",
      "      )\n",
      "    )\n",
      "    (2): Upsample(scale_factor=2.0, mode=trilinear)\n",
      "    (3): DoubleConv3D(\n",
      "      (conv): Sequential(\n",
      "        (0): Conv3d(768, 256, kernel_size=(3, 3, 3), stride=(1, 1, 1), padding=(1, 1, 1), bias=False)\n",
      "        (1): BatchNorm3d(256, eps=1e-05, momentum=0.1, affine=True, track_running_stats=True)\n",
      "        (2): ReLU(inplace=True)\n",
      "        (3): Conv3d(256, 256, kernel_size=(3, 3, 3), stride=(1, 1, 1), padding=(1, 1, 1), bias=False)\n",
      "        (4): BatchNorm3d(256, eps=1e-05, momentum=0.1, affine=True, track_running_stats=True)\n",
      "        (5): ReLU(inplace=True)\n",
      "      )\n",
      "    )\n",
      "    (4): Upsample(scale_factor=2.0, mode=trilinear)\n",
      "    (5): DoubleConv3D(\n",
      "      (conv): Sequential(\n",
      "        (0): Conv3d(384, 128, kernel_size=(3, 3, 3), stride=(1, 1, 1), padding=(1, 1, 1), bias=False)\n",
      "        (1): BatchNorm3d(128, eps=1e-05, momentum=0.1, affine=True, track_running_stats=True)\n",
      "        (2): ReLU(inplace=True)\n",
      "        (3): Conv3d(128, 128, kernel_size=(3, 3, 3), stride=(1, 1, 1), padding=(1, 1, 1), bias=False)\n",
      "        (4): BatchNorm3d(128, eps=1e-05, momentum=0.1, affine=True, track_running_stats=True)\n",
      "        (5): ReLU(inplace=True)\n",
      "      )\n",
      "    )\n",
      "    (6): Upsample(scale_factor=2.0, mode=trilinear)\n",
      "    (7): DoubleConv3D(\n",
      "      (conv): Sequential(\n",
      "        (0): Conv3d(192, 64, kernel_size=(3, 3, 3), stride=(1, 1, 1), padding=(1, 1, 1), bias=False)\n",
      "        (1): BatchNorm3d(64, eps=1e-05, momentum=0.1, affine=True, track_running_stats=True)\n",
      "        (2): ReLU(inplace=True)\n",
      "        (3): Conv3d(64, 64, kernel_size=(3, 3, 3), stride=(1, 1, 1), padding=(1, 1, 1), bias=False)\n",
      "        (4): BatchNorm3d(64, eps=1e-05, momentum=0.1, affine=True, track_running_stats=True)\n",
      "        (5): ReLU(inplace=True)\n",
      "      )\n",
      "    )\n",
      "  )\n",
      "  (bottleneck): DoubleConv3D(\n",
      "    (conv): Sequential(\n",
      "      (0): Conv3d(512, 1024, kernel_size=(3, 3, 3), stride=(1, 1, 1), padding=(1, 1, 1), bias=False)\n",
      "      (1): BatchNorm3d(1024, eps=1e-05, momentum=0.1, affine=True, track_running_stats=True)\n",
      "      (2): ReLU(inplace=True)\n",
      "      (3): Conv3d(1024, 1024, kernel_size=(3, 3, 3), stride=(1, 1, 1), padding=(1, 1, 1), bias=False)\n",
      "      (4): BatchNorm3d(1024, eps=1e-05, momentum=0.1, affine=True, track_running_stats=True)\n",
      "      (5): ReLU(inplace=True)\n",
      "    )\n",
      "  )\n",
      "  (output_conv): Conv3d(64, 3, kernel_size=(1, 1, 1), stride=(1, 1, 1))\n",
      ")\n"
     ]
    }
   ],
   "source": [
    "model = Base3DUNet(3, 3, features=[64, 128, 256, 512], up_sample=True).to(DEVICE)\n",
    "print(model)"
   ],
   "metadata": {
    "collapsed": false
   }
  },
  {
   "cell_type": "code",
   "execution_count": 11,
   "outputs": [],
   "source": [
    "# load(model, \"weights/3D/3d_50e_adam_b4_dice\")"
   ],
   "metadata": {
    "collapsed": false
   }
  },
  {
   "cell_type": "code",
   "execution_count": 12,
   "outputs": [],
   "source": [
    "# model.train()"
   ],
   "metadata": {
    "collapsed": false
   }
  },
  {
   "cell_type": "code",
   "execution_count": 13,
   "outputs": [
    {
     "name": "stdout",
     "output_type": "stream",
     "text": [
      "total parameters = 94130947\n",
      "total learnable parameters = 94130947\n"
     ]
    }
   ],
   "source": [
    "\n",
    "print(f\"total parameters = {sum(p.numel() for p in model.parameters())}\")\n",
    "print(f\"total learnable parameters = {sum(p.numel() for p in model.parameters() if p.requires_grad)}\")"
   ],
   "metadata": {
    "collapsed": false
   }
  },
  {
   "cell_type": "code",
   "execution_count": 14,
   "outputs": [],
   "source": [
    "opt = torch.optim.Adam(model.parameters(), lr=LR)\n",
    "# loss = torch.nn.BCEWithLogitsLoss # cannot be used because there's a lot of imbalance anyway, so it is better to combine it with dice\n",
    "# loss = BCEDiceLoss()\n",
    "loss = DiceLoss()"
   ],
   "metadata": {
    "collapsed": false
   }
  },
  {
   "cell_type": "code",
   "execution_count": 15,
   "outputs": [
    {
     "name": "stdout",
     "output_type": "stream",
     "text": [
      "cuda\n"
     ]
    }
   ],
   "source": [
    "print(DEVICE)\n"
   ],
   "metadata": {
    "collapsed": false
   }
  },
  {
   "cell_type": "code",
   "execution_count": null,
   "outputs": [
    {
     "name": "stderr",
     "output_type": "stream",
     "text": [
      "At epoch [1/100]: 100%|██████████| 56/56 [02:30<00:00,  2.69s/it, loss=0.89] \n",
      "At epoch [2/100]: 100%|██████████| 56/56 [02:23<00:00,  2.56s/it, loss=0.894]\n",
      "At epoch [3/100]: 100%|██████████| 56/56 [02:23<00:00,  2.56s/it, loss=0.933]\n",
      "At epoch [4/100]: 100%|██████████| 56/56 [02:23<00:00,  2.56s/it, loss=0.827]\n",
      "At epoch [5/100]: 100%|██████████| 56/56 [02:23<00:00,  2.56s/it, loss=0.914]\n",
      "At epoch [6/100]: 100%|██████████| 56/56 [02:23<00:00,  2.56s/it, loss=0.885]\n",
      "At epoch [7/100]: 100%|██████████| 56/56 [02:23<00:00,  2.56s/it, loss=0.838]\n",
      "At epoch [8/100]: 100%|██████████| 56/56 [02:23<00:00,  2.56s/it, loss=0.807]\n",
      "At epoch [9/100]: 100%|██████████| 56/56 [02:23<00:00,  2.56s/it, loss=0.695]\n",
      "At epoch [10/100]: 100%|██████████| 56/56 [02:23<00:00,  2.56s/it, loss=0.901]\n",
      "At epoch [11/100]: 100%|██████████| 56/56 [02:23<00:00,  2.56s/it, loss=0.866]\n",
      "At epoch [12/100]: 100%|██████████| 56/56 [02:23<00:00,  2.56s/it, loss=0.77] \n",
      "At epoch [13/100]: 100%|██████████| 56/56 [02:23<00:00,  2.56s/it, loss=0.711]\n",
      "At epoch [14/100]: 100%|██████████| 56/56 [02:23<00:00,  2.56s/it, loss=0.654]\n",
      "At epoch [15/100]: 100%|██████████| 56/56 [02:23<00:00,  2.56s/it, loss=0.636]\n",
      "At epoch [16/100]: 100%|██████████| 56/56 [02:23<00:00,  2.56s/it, loss=0.845]\n",
      "At epoch [17/100]: 100%|██████████| 56/56 [02:23<00:00,  2.56s/it, loss=0.536]\n",
      "At epoch [18/100]: 100%|██████████| 56/56 [02:23<00:00,  2.55s/it, loss=0.375]\n",
      "At epoch [19/100]: 100%|██████████| 56/56 [02:23<00:00,  2.56s/it, loss=0.467]\n",
      "At epoch [20/100]: 100%|██████████| 56/56 [02:23<00:00,  2.56s/it, loss=0.517]\n",
      "At epoch [21/100]: 100%|██████████| 56/56 [02:23<00:00,  2.56s/it, loss=0.365]\n",
      "At epoch [22/100]: 100%|██████████| 56/56 [02:23<00:00,  2.56s/it, loss=0.382]\n",
      "At epoch [23/100]: 100%|██████████| 56/56 [02:23<00:00,  2.56s/it, loss=0.632]\n",
      "At epoch [24/100]: 100%|██████████| 56/56 [02:23<00:00,  2.56s/it, loss=0.42] \n",
      "At epoch [25/100]: 100%|██████████| 56/56 [02:23<00:00,  2.56s/it, loss=0.315]\n",
      "At epoch [26/100]: 100%|██████████| 56/56 [02:23<00:00,  2.56s/it, loss=0.71] \n",
      "At epoch [27/100]: 100%|██████████| 56/56 [02:23<00:00,  2.56s/it, loss=0.369]\n",
      "At epoch [28/100]: 100%|██████████| 56/56 [02:23<00:00,  2.55s/it, loss=0.739]\n",
      "At epoch [29/100]: 100%|██████████| 56/56 [02:23<00:00,  2.56s/it, loss=0.277]\n",
      "At epoch [30/100]: 100%|██████████| 56/56 [02:23<00:00,  2.56s/it, loss=0.257]\n",
      "At epoch [31/100]: 100%|██████████| 56/56 [02:23<00:00,  2.56s/it, loss=0.223]\n",
      "At epoch [32/100]: 100%|██████████| 56/56 [02:23<00:00,  2.56s/it, loss=0.171]\n",
      "At epoch [33/100]: 100%|██████████| 56/56 [02:23<00:00,  2.56s/it, loss=0.124]\n",
      "At epoch [34/100]: 100%|██████████| 56/56 [02:23<00:00,  2.56s/it, loss=0.284]\n",
      "At epoch [35/100]: 100%|██████████| 56/56 [02:23<00:00,  2.56s/it, loss=0.285]\n",
      "At epoch [36/100]: 100%|██████████| 56/56 [02:23<00:00,  2.56s/it, loss=0.246]\n",
      "At epoch [37/100]: 100%|██████████| 56/56 [02:23<00:00,  2.56s/it, loss=0.148]\n",
      "At epoch [38/100]: 100%|██████████| 56/56 [02:23<00:00,  2.56s/it, loss=0.196]\n",
      "At epoch [39/100]: 100%|██████████| 56/56 [02:23<00:00,  2.56s/it, loss=0.19] \n",
      "At epoch [40/100]: 100%|██████████| 56/56 [02:23<00:00,  2.56s/it, loss=0.15] \n",
      "At epoch [41/100]: 100%|██████████| 56/56 [02:23<00:00,  2.56s/it, loss=0.231]\n",
      "At epoch [42/100]: 100%|██████████| 56/56 [02:23<00:00,  2.55s/it, loss=0.383]\n",
      "At epoch [43/100]: 100%|██████████| 56/56 [02:23<00:00,  2.56s/it, loss=0.572] \n",
      "At epoch [44/100]: 100%|██████████| 56/56 [02:23<00:00,  2.56s/it, loss=0.352]\n",
      "At epoch [45/100]: 100%|██████████| 56/56 [02:23<00:00,  2.56s/it, loss=0.08] \n",
      "At epoch [46/100]: 100%|██████████| 56/56 [02:23<00:00,  2.56s/it, loss=0.188] \n",
      "At epoch [47/100]: 100%|██████████| 56/56 [02:23<00:00,  2.56s/it, loss=0.214]\n",
      "At epoch [48/100]: 100%|██████████| 56/56 [02:23<00:00,  2.56s/it, loss=0.133]\n",
      "At epoch [49/100]: 100%|██████████| 56/56 [02:23<00:00,  2.56s/it, loss=0.0826]\n",
      "At epoch [50/100]: 100%|██████████| 56/56 [02:23<00:00,  2.56s/it, loss=0.0985]\n",
      "At epoch [51/100]: 100%|██████████| 56/56 [02:23<00:00,  2.56s/it, loss=0.0682]\n",
      "At epoch [52/100]: 100%|██████████| 56/56 [02:23<00:00,  2.56s/it, loss=0.205] \n",
      "At epoch [53/100]: 100%|██████████| 56/56 [02:24<00:00,  2.57s/it, loss=0.083] \n",
      "At epoch [54/100]: 100%|██████████| 56/56 [02:23<00:00,  2.57s/it, loss=0.289] \n",
      "At epoch [55/100]: 100%|██████████| 56/56 [02:24<00:00,  2.58s/it, loss=0.311] \n",
      "At epoch [56/100]: 100%|██████████| 56/56 [02:23<00:00,  2.57s/it, loss=0.111] \n",
      "At epoch [57/100]: 100%|██████████| 56/56 [02:23<00:00,  2.56s/it, loss=0.221]\n",
      "At epoch [58/100]:  50%|█████     | 28/56 [01:13<01:11,  2.54s/it, loss=0.146]"
     ]
    }
   ],
   "source": [
    "train(model, epochs=EPOCHS, training_loader=train_dl, loss_fn=loss, device=DEVICE, optimizer=opt)"
   ],
   "metadata": {
    "collapsed": false,
    "pycharm": {
     "is_executing": true
    }
   }
  },
  {
   "cell_type": "code",
   "execution_count": null,
   "outputs": [],
   "source": [
    "check_accuracy(val_dl,model,DEVICE)\n",
    "# convT\n",
    "# 100 DICE Results: Results: 115510440/116391936 with accuracy 99.3155 Dice score: 0.7647337317466736\n",
    "# 100 BCE-DICE Results: 115626234/116391936 with accuracy 99.3421 Dice score: 0.7765376567840576\n",
    "# upsample\n",
    "# 100 DICE Results: Results: 115510440/116391936 with accuracy A Dice score: D\n",
    "# 100 BCE-DICE Results: 115626234/116391936 with accuracy A Dice score: D"
   ],
   "metadata": {
    "collapsed": false,
    "pycharm": {
     "is_executing": true
    }
   }
  },
  {
   "cell_type": "code",
   "execution_count": null,
   "outputs": [],
   "source": [
    "# saving sample\n",
    "save(model,\"weights/3D/3d_100e_adam_b4_dice_upsampler\")\n",
    "print(\"saved the model...\")"
   ],
   "metadata": {
    "collapsed": false,
    "pycharm": {
     "is_executing": true
    }
   }
  },
  {
   "cell_type": "code",
   "execution_count": null,
   "outputs": [],
   "source": [
    "save(model,\"weights/3D/3d_100e_adam_b4_dice_upsampler\")"
   ],
   "metadata": {
    "collapsed": false
   }
  },
  {
   "cell_type": "code",
   "execution_count": 14,
   "outputs": [
    {
     "name": "stderr",
     "output_type": "stream",
     "text": [
      "At epoch [1/50]: 100%|██████████| 56/56 [01:36<00:00,  1.73s/it, loss=0.201] \n",
      "At epoch [2/50]: 100%|██████████| 56/56 [01:37<00:00,  1.74s/it, loss=0.118]\n",
      "At epoch [3/50]: 100%|██████████| 56/56 [01:37<00:00,  1.74s/it, loss=0.171] \n",
      "At epoch [4/50]: 100%|██████████| 56/56 [01:37<00:00,  1.74s/it, loss=0.188]\n",
      "At epoch [5/50]: 100%|██████████| 56/56 [01:37<00:00,  1.74s/it, loss=0.135]\n",
      "At epoch [6/50]: 100%|██████████| 56/56 [01:37<00:00,  1.74s/it, loss=0.0845]\n",
      "At epoch [7/50]: 100%|██████████| 56/56 [01:37<00:00,  1.74s/it, loss=0.27]  \n",
      "At epoch [8/50]: 100%|██████████| 56/56 [01:37<00:00,  1.74s/it, loss=0.218] \n",
      "At epoch [9/50]: 100%|██████████| 56/56 [01:37<00:00,  1.74s/it, loss=0.225] \n",
      "At epoch [10/50]:  12%|█▎        | 7/56 [00:14<01:28,  1.81s/it, loss=0.128]"
     ]
    }
   ],
   "source": [
    "train(model, epochs=EPOCHS, training_loader=train_dl, loss_fn=loss, device=DEVICE, optimizer=opt)"
   ],
   "metadata": {
    "collapsed": false
   }
  },
  {
   "cell_type": "code",
   "execution_count": 15,
   "outputs": [],
   "source": [
    "check_accuracy(val_dl,model,DEVICE)"
   ],
   "metadata": {
    "collapsed": false
   }
  },
  {
   "cell_type": "code",
   "execution_count": null,
   "outputs": [],
   "source": [],
   "metadata": {
    "collapsed": false
   }
  },
  {
   "cell_type": "code",
   "execution_count": 19,
   "outputs": [],
   "source": [
    "# loading sample\n",
    "model1 = Base3DUNet(3,3)\n",
    "load(model,\"weights/3D/t1\")"
   ],
   "metadata": {
    "collapsed": false
   }
  }
 ],
 "metadata": {
  "kernelspec": {
   "display_name": "Python 3",
   "language": "python",
   "name": "python3"
  },
  "language_info": {
   "codemirror_mode": {
    "name": "ipython",
    "version": 2
   },
   "file_extension": ".py",
   "mimetype": "text/x-python",
   "name": "python",
   "nbconvert_exporter": "python",
   "pygments_lexer": "ipython2",
   "version": "2.7.6"
  }
 },
 "nbformat": 4,
 "nbformat_minor": 0
}
